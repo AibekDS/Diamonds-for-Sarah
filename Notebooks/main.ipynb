{
 "cells": [
  {
   "cell_type": "markdown",
   "metadata": {},
   "source": [
    "# Аналитика с применением ML. Обучение с учителем. Регрессия.\n",
    "## Составить лучшие варианты бриллианта\n",
    "<div style=\"text-align: center;\">\n",
    "    <img src=\"https://static.tildacdn.com/tild3336-3437-4638-b566-666236633564/unnamed_2.jpg\" alt=\"Брилиант\" width=\"400\" height=\"400\">\n",
    "</div>"
   ]
  },
  {
   "cell_type": "code",
   "execution_count": 2,
   "metadata": {},
   "outputs": [],
   "source": [
    "# Импортируем библиотеки\n",
    "import pandas as pd # для работы с данными\n",
    "import numpy as np # для вычислений\n",
    "import matplotlib.pyplot as plt # для визулизаций\n",
    "import seaborn as sns # для визулизаций\n",
    "\n",
    "from sklearn import linear_model # Линейные модели\n",
    "from sklearn import preprocessing # предобработка\n",
    "from sklearn import metrics # метрики\n",
    "from sklearn.model_selection import train_test_split # выборка\n",
    "%matplotlib inline"
   ]
  },
  {
   "cell_type": "markdown",
   "metadata": {},
   "source": [
    "Повторим, как организуется процесс разработки DS-проектов согласно методологии CRISP-DM."
   ]
  },
  {
   "cell_type": "markdown",
   "metadata": {},
   "source": [
    "Этапы модели CRISP-DM:\n",
    "1. Анализ требований\n",
    "2. Исследование данных\n",
    "3. Подготовка данных\n",
    "4. Моделирование\n",
    "5. Оценка модели\n",
    "6. Внедрение"
   ]
  },
  {
   "cell_type": "markdown",
   "metadata": {},
   "source": [
    "### Анализ требований"
   ]
  },
  {
   "cell_type": "markdown",
   "metadata": {},
   "source": [
    "Задание: Анализировать кейс и создать модель Регрессий для предсказывание цены бриланта."
   ]
  },
  {
   "cell_type": "markdown",
   "metadata": {},
   "source": [
    "**Знакомство с данными**"
   ]
  },
  {
   "cell_type": "code",
   "execution_count": 3,
   "metadata": {},
   "outputs": [
    {
     "data": {
      "text/html": [
       "<div>\n",
       "<style scoped>\n",
       "    .dataframe tbody tr th:only-of-type {\n",
       "        vertical-align: middle;\n",
       "    }\n",
       "\n",
       "    .dataframe tbody tr th {\n",
       "        vertical-align: top;\n",
       "    }\n",
       "\n",
       "    .dataframe thead th {\n",
       "        text-align: right;\n",
       "    }\n",
       "</style>\n",
       "<table border=\"1\" class=\"dataframe\">\n",
       "  <thead>\n",
       "    <tr style=\"text-align: right;\">\n",
       "      <th></th>\n",
       "      <th>Carat Weight</th>\n",
       "      <th>Cut</th>\n",
       "      <th>Color</th>\n",
       "      <th>Clarity</th>\n",
       "      <th>Polish</th>\n",
       "      <th>Symmetry</th>\n",
       "      <th>Report</th>\n",
       "      <th>Price</th>\n",
       "    </tr>\n",
       "    <tr>\n",
       "      <th>ID</th>\n",
       "      <th></th>\n",
       "      <th></th>\n",
       "      <th></th>\n",
       "      <th></th>\n",
       "      <th></th>\n",
       "      <th></th>\n",
       "      <th></th>\n",
       "      <th></th>\n",
       "    </tr>\n",
       "  </thead>\n",
       "  <tbody>\n",
       "    <tr>\n",
       "      <th>1</th>\n",
       "      <td>1.10</td>\n",
       "      <td>Ideal</td>\n",
       "      <td>H</td>\n",
       "      <td>SI1</td>\n",
       "      <td>VG</td>\n",
       "      <td>EX</td>\n",
       "      <td>GIA</td>\n",
       "      <td>5169</td>\n",
       "    </tr>\n",
       "    <tr>\n",
       "      <th>2</th>\n",
       "      <td>0.83</td>\n",
       "      <td>Ideal</td>\n",
       "      <td>H</td>\n",
       "      <td>VS1</td>\n",
       "      <td>ID</td>\n",
       "      <td>ID</td>\n",
       "      <td>AGSL</td>\n",
       "      <td>3470</td>\n",
       "    </tr>\n",
       "    <tr>\n",
       "      <th>3</th>\n",
       "      <td>0.85</td>\n",
       "      <td>Ideal</td>\n",
       "      <td>H</td>\n",
       "      <td>SI1</td>\n",
       "      <td>EX</td>\n",
       "      <td>EX</td>\n",
       "      <td>GIA</td>\n",
       "      <td>3183</td>\n",
       "    </tr>\n",
       "    <tr>\n",
       "      <th>4</th>\n",
       "      <td>0.91</td>\n",
       "      <td>Ideal</td>\n",
       "      <td>E</td>\n",
       "      <td>SI1</td>\n",
       "      <td>VG</td>\n",
       "      <td>VG</td>\n",
       "      <td>GIA</td>\n",
       "      <td>4370</td>\n",
       "    </tr>\n",
       "    <tr>\n",
       "      <th>5</th>\n",
       "      <td>0.83</td>\n",
       "      <td>Ideal</td>\n",
       "      <td>G</td>\n",
       "      <td>SI1</td>\n",
       "      <td>EX</td>\n",
       "      <td>EX</td>\n",
       "      <td>GIA</td>\n",
       "      <td>3171</td>\n",
       "    </tr>\n",
       "  </tbody>\n",
       "</table>\n",
       "</div>"
      ],
      "text/plain": [
       "    Carat Weight    Cut Color Clarity Polish Symmetry Report  Price\n",
       "ID                                                                 \n",
       "1           1.10  Ideal     H     SI1     VG       EX    GIA   5169\n",
       "2           0.83  Ideal     H     VS1     ID       ID   AGSL   3470\n",
       "3           0.85  Ideal     H     SI1     EX       EX    GIA   3183\n",
       "4           0.91  Ideal     E     SI1     VG       VG    GIA   4370\n",
       "5           0.83  Ideal     G     SI1     EX       EX    GIA   3171"
      ]
     },
     "execution_count": 3,
     "metadata": {},
     "output_type": "execute_result"
    }
   ],
   "source": [
    "# Считываем данные из таблицы\n",
    "df = pd.read_excel(r\"C:\\Users\\moona\\Desktop\\Брилианты для Сары - project 5\\data\\data.xlsx\")\n",
    "df.set_index('ID', inplace=True) # устанавливаем колонку \"ID\" как индекс\n",
    "df.head()"
   ]
  },
  {
   "cell_type": "markdown",
   "metadata": {},
   "source": [
    "Каждый брилиант описывает следующие признаки:\n",
    "1. Carat Weight - Вес в каратах\n",
    "2. Cut - Огранка\n",
    "3. Color - Цвет\n",
    "4. Clarity - Чистота\n",
    "5. Polish - Полировка\n",
    "6. Symmetry - Симетрия\n",
    "7. Report - Стандарты оценки\n",
    "8. Price - Цена (**Целевая переменная**)\n",
    "\n",
    "* Оценка брилиантов зависет от четерех основных критериев, известные как \"Четыре С\" - Carat Weight, Cut, Color, Clarity. Помимо этих факторов на стоимость камня могут также влиять другие, менее известные показатели, это - Polish, Symmetry, Report. (Подробно можете узнать в файле \"task.pdf\" в папке \"description\")."
   ]
  },
  {
   "cell_type": "code",
   "execution_count": 4,
   "metadata": {},
   "outputs": [
    {
     "data": {
      "text/plain": [
       "(6000, 8)"
      ]
     },
     "execution_count": 4,
     "metadata": {},
     "output_type": "execute_result"
    }
   ],
   "source": [
    "df.shape"
   ]
  },
  {
   "cell_type": "code",
   "execution_count": 5,
   "metadata": {},
   "outputs": [
    {
     "name": "stdout",
     "output_type": "stream",
     "text": [
      "<class 'pandas.core.frame.DataFrame'>\n",
      "Index: 6000 entries, 1 to 6000\n",
      "Data columns (total 8 columns):\n",
      " #   Column        Non-Null Count  Dtype  \n",
      "---  ------        --------------  -----  \n",
      " 0   Carat Weight  6000 non-null   float64\n",
      " 1   Cut           6000 non-null   object \n",
      " 2   Color         6000 non-null   object \n",
      " 3   Clarity       6000 non-null   object \n",
      " 4   Polish        6000 non-null   object \n",
      " 5   Symmetry      6000 non-null   object \n",
      " 6   Report        6000 non-null   object \n",
      " 7   Price         6000 non-null   int64  \n",
      "dtypes: float64(1), int64(1), object(6)\n",
      "memory usage: 421.9+ KB\n"
     ]
    }
   ],
   "source": [
    "df.info()"
   ]
  },
  {
   "cell_type": "markdown",
   "metadata": {},
   "source": [
    "### Исследование данных"
   ]
  },
  {
   "cell_type": "markdown",
   "metadata": {},
   "source": [
    "Цель этого шага — понять слабые и сильные стороны предоставленных данных, определить их достаточность, оценить взаимосвязи между признаками и предложить идеи, как их использовать."
   ]
  },
  {
   "cell_type": "markdown",
   "metadata": {},
   "source": [
    "Выводим описательные статистики для числовых и категориальных признаков"
   ]
  },
  {
   "cell_type": "code",
   "execution_count": 6,
   "metadata": {},
   "outputs": [
    {
     "data": {
      "text/html": [
       "<div>\n",
       "<style scoped>\n",
       "    .dataframe tbody tr th:only-of-type {\n",
       "        vertical-align: middle;\n",
       "    }\n",
       "\n",
       "    .dataframe tbody tr th {\n",
       "        vertical-align: top;\n",
       "    }\n",
       "\n",
       "    .dataframe thead th {\n",
       "        text-align: right;\n",
       "    }\n",
       "</style>\n",
       "<table border=\"1\" class=\"dataframe\">\n",
       "  <thead>\n",
       "    <tr style=\"text-align: right;\">\n",
       "      <th></th>\n",
       "      <th>Carat Weight</th>\n",
       "      <th>Price</th>\n",
       "    </tr>\n",
       "  </thead>\n",
       "  <tbody>\n",
       "    <tr>\n",
       "      <th>count</th>\n",
       "      <td>6000.000000</td>\n",
       "      <td>6000.000000</td>\n",
       "    </tr>\n",
       "    <tr>\n",
       "      <th>mean</th>\n",
       "      <td>1.334520</td>\n",
       "      <td>11791.579333</td>\n",
       "    </tr>\n",
       "    <tr>\n",
       "      <th>std</th>\n",
       "      <td>0.475696</td>\n",
       "      <td>10184.350051</td>\n",
       "    </tr>\n",
       "    <tr>\n",
       "      <th>min</th>\n",
       "      <td>0.750000</td>\n",
       "      <td>2184.000000</td>\n",
       "    </tr>\n",
       "    <tr>\n",
       "      <th>25%</th>\n",
       "      <td>1.000000</td>\n",
       "      <td>5150.500000</td>\n",
       "    </tr>\n",
       "    <tr>\n",
       "      <th>50%</th>\n",
       "      <td>1.130000</td>\n",
       "      <td>7857.000000</td>\n",
       "    </tr>\n",
       "    <tr>\n",
       "      <th>75%</th>\n",
       "      <td>1.590000</td>\n",
       "      <td>15036.500000</td>\n",
       "    </tr>\n",
       "    <tr>\n",
       "      <th>max</th>\n",
       "      <td>2.910000</td>\n",
       "      <td>101561.000000</td>\n",
       "    </tr>\n",
       "  </tbody>\n",
       "</table>\n",
       "</div>"
      ],
      "text/plain": [
       "       Carat Weight          Price\n",
       "count   6000.000000    6000.000000\n",
       "mean       1.334520   11791.579333\n",
       "std        0.475696   10184.350051\n",
       "min        0.750000    2184.000000\n",
       "25%        1.000000    5150.500000\n",
       "50%        1.130000    7857.000000\n",
       "75%        1.590000   15036.500000\n",
       "max        2.910000  101561.000000"
      ]
     },
     "execution_count": 6,
     "metadata": {},
     "output_type": "execute_result"
    }
   ],
   "source": [
    "df.describe()"
   ]
  },
  {
   "cell_type": "code",
   "execution_count": 7,
   "metadata": {},
   "outputs": [
    {
     "data": {
      "text/html": [
       "<div>\n",
       "<style scoped>\n",
       "    .dataframe tbody tr th:only-of-type {\n",
       "        vertical-align: middle;\n",
       "    }\n",
       "\n",
       "    .dataframe tbody tr th {\n",
       "        vertical-align: top;\n",
       "    }\n",
       "\n",
       "    .dataframe thead th {\n",
       "        text-align: right;\n",
       "    }\n",
       "</style>\n",
       "<table border=\"1\" class=\"dataframe\">\n",
       "  <thead>\n",
       "    <tr style=\"text-align: right;\">\n",
       "      <th></th>\n",
       "      <th>Cut</th>\n",
       "      <th>Color</th>\n",
       "      <th>Clarity</th>\n",
       "      <th>Polish</th>\n",
       "      <th>Symmetry</th>\n",
       "      <th>Report</th>\n",
       "    </tr>\n",
       "  </thead>\n",
       "  <tbody>\n",
       "    <tr>\n",
       "      <th>count</th>\n",
       "      <td>6000</td>\n",
       "      <td>6000</td>\n",
       "      <td>6000</td>\n",
       "      <td>6000</td>\n",
       "      <td>6000</td>\n",
       "      <td>6000</td>\n",
       "    </tr>\n",
       "    <tr>\n",
       "      <th>unique</th>\n",
       "      <td>5</td>\n",
       "      <td>6</td>\n",
       "      <td>7</td>\n",
       "      <td>4</td>\n",
       "      <td>4</td>\n",
       "      <td>2</td>\n",
       "    </tr>\n",
       "    <tr>\n",
       "      <th>top</th>\n",
       "      <td>Ideal</td>\n",
       "      <td>G</td>\n",
       "      <td>SI1</td>\n",
       "      <td>EX</td>\n",
       "      <td>VG</td>\n",
       "      <td>GIA</td>\n",
       "    </tr>\n",
       "    <tr>\n",
       "      <th>freq</th>\n",
       "      <td>2482</td>\n",
       "      <td>1501</td>\n",
       "      <td>2059</td>\n",
       "      <td>2425</td>\n",
       "      <td>2417</td>\n",
       "      <td>5266</td>\n",
       "    </tr>\n",
       "  </tbody>\n",
       "</table>\n",
       "</div>"
      ],
      "text/plain": [
       "          Cut Color Clarity Polish Symmetry Report\n",
       "count    6000  6000    6000   6000     6000   6000\n",
       "unique      5     6       7      4        4      2\n",
       "top     Ideal     G     SI1     EX       VG    GIA\n",
       "freq     2482  1501    2059   2425     2417   5266"
      ]
     },
     "execution_count": 7,
     "metadata": {},
     "output_type": "execute_result"
    }
   ],
   "source": [
    "df.describe(include='object')"
   ]
  },
  {
   "cell_type": "code",
   "execution_count": 132,
   "metadata": {},
   "outputs": [],
   "source": [
    "# создаем копию для облегчения работы с таблицей\n",
    "temp_data = df.copy()"
   ]
  },
  {
   "cell_type": "markdown",
   "metadata": {},
   "source": [
    "Проведем небольшое исследование зависимости целевого признака price от числовых признаков."
   ]
  },
  {
   "cell_type": "code",
   "execution_count": 110,
   "metadata": {},
   "outputs": [
    {
     "data": {
      "text/plain": [
       "['Carat Weight', 'Price']"
      ]
     },
     "execution_count": 110,
     "metadata": {},
     "output_type": "execute_result"
    }
   ],
   "source": [
    "types = temp_data.dtypes\n",
    "num_features = list(types[types != 'object'].index)\n",
    "num_features"
   ]
  },
  {
   "cell_type": "markdown",
   "metadata": {},
   "source": [
    "Покажем визуализацией диаграмму рассеяния для числовых признаков. Дополнительно поверх диаграммы рассеяния построим уравнение линейной регрессии."
   ]
  },
  {
   "cell_type": "code",
   "execution_count": 111,
   "metadata": {},
   "outputs": [
    {
     "data": {
      "image/png": "[encoded data removed]",
      "text/plain": [
       "<Figure size 1500x600 with 4 Axes>"
      ]
     },
     "metadata": {},
     "output_type": "display_data"
    }
   ],
   "source": [
    "n = len(num_features) # количество числовых признаков\n",
    "fig, axes = plt.subplots(n, 2, figsize=(15, 6))\n",
    "for i, feature in enumerate(num_features):\n",
    "    # Диаграмма рассеяния\n",
    "    # Гистограмма рассейвания признака\n",
    "    histplot = sns.histplot(data=temp_data, x = feature, ax=axes[i][0]) \n",
    "    # Подписываем\n",
    "    histplot.set_title('{} hist'.format(feature))  \n",
    "    # Поворот\n",
    "    histplot.xaxis.set_tick_params(rotation=45)  \n",
    "    \n",
    "    # Диаграмма рассеяния + Уравнение регрессии\n",
    "    # Уравнение регрессии отношение признака с целевой переменной\n",
    "    regplot = sns.regplot(data=temp_data, x=feature, y='Price', ax=axes[i][1]) \n",
    "    # Подписываем\n",
    "    regplot.set_title('{} VS Price'.format(feature)) \n",
    "    # Поворот\n",
    "    regplot.xaxis.set_tick_params(rotation=45) \n",
    "plt.tight_layout() # выравнивание графиков"
   ]
  },
  {
   "cell_type": "markdown",
   "metadata": {},
   "source": [
    "Строим тепловую карту для корреляционной матрицы, чтобы оценить мультиколлинеарную зависимость и линейную взаимосвязь между факторами и целевым признаком (price)"
   ]
  },
  {
   "cell_type": "code",
   "execution_count": 112,
   "metadata": {},
   "outputs": [
    {
     "data": {
      "text/plain": [
       "<Axes: >"
      ]
     },
     "execution_count": 112,
     "metadata": {},
     "output_type": "execute_result"
    },
    {
     "data": {
      "image/png": "[encoded data removed]",
      "text/plain": [
       "<Figure size 1000x500 with 2 Axes>"
      ]
     },
     "metadata": {},
     "output_type": "display_data"
    }
   ],
   "source": [
    "# Строим тепловую карту корреляций\n",
    "fig = plt.subplots(figsize=(10, 5))\n",
    "sns.heatmap(temp_data[num_features].corr(), annot=True)"
   ]
  },
  {
   "cell_type": "markdown",
   "metadata": {},
   "source": [
    "### Подготовка данных"
   ]
  },
  {
   "cell_type": "markdown",
   "metadata": {},
   "source": [
    "Цель этого этапа — подготовить обучающую выборку для использования в моделировании."
   ]
  },
  {
   "cell_type": "markdown",
   "metadata": {},
   "source": [
    "Модель: Регрессия\n",
    "\n",
    "**Задачи:**\n",
    "- Анализ дубликатов\n",
    "- Анализ пустот\n",
    "- Удаление выбросов\n",
    "- Обработать числовые метрики\n",
    "- Обработать категориальные метрики\n",
    "- Удаление лишних переменных / уменьшение размерности (Итерация #2)"
   ]
  },
  {
   "cell_type": "markdown",
   "metadata": {},
   "source": [
    "#### Анализ дубликатов"
   ]
  },
  {
   "cell_type": "markdown",
   "metadata": {},
   "source": [
    "Выводим дубликаты с помощью функции duplicated() и удаляем их функцией drop_duplicates()."
   ]
  },
  {
   "cell_type": "code",
   "execution_count": 133,
   "metadata": {},
   "outputs": [
    {
     "data": {
      "text/plain": [
       "(83, 8)"
      ]
     },
     "execution_count": 133,
     "metadata": {},
     "output_type": "execute_result"
    }
   ],
   "source": [
    "# Выводим дубликаты\n",
    "temp_data[temp_data.duplicated()].shape"
   ]
  },
  {
   "cell_type": "code",
   "execution_count": 134,
   "metadata": {},
   "outputs": [
    {
     "data": {
      "text/plain": [
       "(5917, 8)"
      ]
     },
     "execution_count": 134,
     "metadata": {},
     "output_type": "execute_result"
    }
   ],
   "source": [
    "# Удаляем дубликаты \n",
    "temp_data.drop_duplicates(inplace=True)\n",
    "temp_data.shape"
   ]
  },
  {
   "cell_type": "markdown",
   "metadata": {},
   "source": [
    "Были удалены 83 строк данных которые были дубликатами."
   ]
  },
  {
   "cell_type": "markdown",
   "metadata": {},
   "source": [
    "#### Анализ пустот"
   ]
  },
  {
   "cell_type": "markdown",
   "metadata": {},
   "source": [
    "Для анализа пустот в данных используем isna()"
   ]
  },
  {
   "cell_type": "code",
   "execution_count": 135,
   "metadata": {},
   "outputs": [
    {
     "data": {
      "text/plain": [
       "Carat Weight    0\n",
       "Cut             0\n",
       "Color           0\n",
       "Clarity         0\n",
       "Polish          0\n",
       "Symmetry        0\n",
       "Report          0\n",
       "Price           0\n",
       "dtype: int64"
      ]
     },
     "execution_count": 135,
     "metadata": {},
     "output_type": "execute_result"
    }
   ],
   "source": [
    "# Выводим количество пустых ячеек из каждой колонки нашего датасета \n",
    "temp_data.isna().sum()"
   ]
  },
  {
   "cell_type": "markdown",
   "metadata": {},
   "source": [
    "Пустые ячейки отсутствуют."
   ]
  },
  {
   "cell_type": "markdown",
   "metadata": {},
   "source": [
    "#### Удаление выбросов"
   ]
  },
  {
   "cell_type": "markdown",
   "metadata": {},
   "source": [
    "Моя цель анализировать и удалить выбросы Целевой переменны('Price'), но у нас есть проблема в том что распределение не семетрично. Можете посмотреть решение проблемы внизу."
   ]
  },
  {
   "cell_type": "markdown",
   "metadata": {},
   "source": [
    "1 - Есть большие выбросы, ввиде длинного хвоста.\n",
    "\n",
    "Из-за этого центральным значением выбираем медиану, а не среднюю. Потому что она не чуствительна к выбросам."
   ]
  },
  {
   "cell_type": "code",
   "execution_count": 136,
   "metadata": {},
   "outputs": [
    {
     "data": {
      "text/plain": [
       "<matplotlib.lines.Line2D at 0x1f4e3219400>"
      ]
     },
     "execution_count": 136,
     "metadata": {},
     "output_type": "execute_result"
    },
    {
     "data": {
      "image/png": "[encoded data removed]",
      "text/plain": [
       "<Figure size 600x400 with 1 Axes>"
      ]
     },
     "metadata": {},
     "output_type": "display_data"
    }
   ],
   "source": [
    "# Визуализируем разницу между медианой и средним\n",
    "fig, _ = plt.subplots(1, 1, figsize=(6, 4))\n",
    "histplot = sns.histplot(data=temp_data, x = 'Price')\n",
    "histplot.xaxis.set_tick_params(rotation=45)\n",
    "histplot.set_title('Price (median VS mean)')\n",
    "_.axvline(temp_data['Price'].median(), color='k', lw=2)\n",
    "_.axvline(temp_data['Price'].mean(), color='k', ls='--', lw=2)"
   ]
  },
  {
   "cell_type": "markdown",
   "metadata": {},
   "source": [
    "А так же можно увидеть что медиана и 50 персентиль одинаковы."
   ]
  },
  {
   "cell_type": "code",
   "execution_count": 137,
   "metadata": {},
   "outputs": [
    {
     "name": "stdout",
     "output_type": "stream",
     "text": [
      "Median = 7869.0\n",
      "50 % = 7869.0\n"
     ]
    }
   ],
   "source": [
    "# Медиана и 50 персентиль целевой переменны\n",
    "print(\"Median = {}\".format(temp_data['Price'].median()))\n",
    "print(\"50 % = {}\".format(np.percentile(temp_data['Price'], 50)))"
   ]
  },
  {
   "cell_type": "markdown",
   "metadata": {},
   "source": [
    "2 - Распределение не семетрично. Так что мы не можем использовать метод z-отклонений(3х сигм)."
   ]
  },
  {
   "cell_type": "code",
   "execution_count": 138,
   "metadata": {},
   "outputs": [
    {
     "data": {
      "text/plain": [
       "<matplotlib.lines.Line2D at 0x1f4e3599280>"
      ]
     },
     "execution_count": 138,
     "metadata": {},
     "output_type": "execute_result"
    },
    {
     "data": {
      "image/png": "[encoded data removed]",
      "text/plain": [
       "<Figure size 600x400 with 1 Axes>"
      ]
     },
     "metadata": {},
     "output_type": "display_data"
    }
   ],
   "source": [
    "# Визуализирую ошибку по поводу 3 сигм.\n",
    "fig, _ = plt.subplots(1, 1, figsize=(6, 4))\n",
    "histplot = sns.histplot(data=temp_data, x = 'Price')\n",
    "histplot.xaxis.set_tick_params(rotation=45)\n",
    "histplot.set_title('Price')\n",
    "\n",
    "per_25 = np.percentile(temp_data['Price'], 25)\n",
    "per_75 = np.percentile(temp_data['Price'], 75)\n",
    "iqr = per_75 - per_25\n",
    "\n",
    "_.axvline(temp_data['Price'].median(), color='k', lw=2)\n",
    "_.axvline(temp_data['Price'].median() + 3*iqr, \n",
    "          color='k', ls='--', lw=2)\n",
    "_.axvline(temp_data['Price'].median() - 3*iqr, \n",
    "          color='k', ls='--', lw=2)"
   ]
  },
  {
   "cell_type": "markdown",
   "metadata": {},
   "source": [
    "Здесь я хочу использовать **\"Скорректированный интервал\"**. \n",
    "\n",
    "Решение этой проблемы предложили Миа Хаберт и Елена Вандервирен (Mia Hubert and Ellen Vandervieren) в 2007 г. в статье “An Adjusted Boxplot for Skewed Distributions”. Их идея заключается в вычислении границ “интервал доверия” с учетом асимметрии распределения, но чтобы для симметричного случая он был равен всё тому же 1,5 * IQR.\n",
    "\n",
    "[Ссылка на статью](https://www.sciencedirect.com/science/article/abs/pii/S0167947307004434)"
   ]
  },
  {
   "cell_type": "markdown",
   "metadata": {},
   "source": [
    "#### Формула для удаления выбросов по Скорректированному интервалу\n",
    "\n",
    "1. **Вычисление квартилей и межквартильного размаха (IQR):**\n",
    "\n",
    "   $$\n",
    "   Q_1 = \\text{первый квартиль}\n",
    "   $$\n",
    "   $$\n",
    "   Q_3 = \\text{третий квартиль}\n",
    "   $$\n",
    "   $$\n",
    "   \\text{IQR} = Q_3 - Q_1\n",
    "   $$\n",
    "\n",
    "2. **Оценка плотности выбросов:**\n",
    "\n",
    "   $$\n",
    "   \\hat{k} = \\frac{(Q_3 - Q_2) - (Q_2 - Q_1)}{(Q_{3} - Q_{1})}\n",
    "   $$\n",
    "\n",
    "3. **Вычисление нижней и верхней границы:**\n",
    "\n",
    "   Если $$\\hat{k} >= 0:$$\n",
    "      $$\n",
    "      \\text{Нижняя граница} = Q_1 - 1.5 \\times e^{-4\\hat{k}} \\times \\text{IQR}\n",
    "      $$\n",
    "      $$\n",
    "      \\text{Верхняя граница} = Q_3 + 1.5 \\times e^{3\\hat{k}} \\times \\text{IQR}\n",
    "      $$\n",
    "   \n",
    "   Иначе:\n",
    "      $$\n",
    "      \\text{Нижняя граница} = Q_1 - 1.5 \\times e^{-3\\hat{k}} \\times \\text{IQR}\n",
    "      $$\n",
    "      $$\n",
    "      \\text{Верхняя граница} = Q_3 + 1.5 \\times e^{4\\hat{k}} \\times \\text{IQR}\n",
    "      $$\n",
    "   \n",
    "   \n",
    "\n",
    "Эти формулы помогают определить нижнюю и верхнюю границы для удаления выбросов. Данные, которые находятся за пределами этих границ, считаются выбросами.\n"
   ]
  },
  {
   "cell_type": "code",
   "execution_count": 140,
   "metadata": {},
   "outputs": [
    {
     "name": "stdout",
     "output_type": "stream",
     "text": [
      "k = 0.45547430632074526\n",
      "lower_bound = 2729.3441803770206\n",
      "upper_bound = 73853.4884992619\n"
     ]
    },
    {
     "data": {
      "image/png": "[encoded data removed]",
      "text/plain": [
       "<Figure size 600x400 with 1 Axes>"
      ]
     },
     "metadata": {},
     "output_type": "display_data"
    }
   ],
   "source": [
    "# Создаем функцию для метода \"Скорректированный интервал\"\n",
    "def adjusted_interval_price(temp_data):\n",
    "    q2 = np.percentile(temp_data['Price'], 50)\n",
    "    q1 = np.percentile(temp_data['Price'], 25)\n",
    "    q3 = np.percentile(temp_data['Price'], 75)\n",
    "    iqr = q3 - q1\n",
    "\n",
    "    k = ((q3 - q2) - (q2 - q1))/(q3 - q1)\n",
    "    print(f\"k = {k}\")\n",
    "\n",
    "    if k >= 0:\n",
    "        lower_bound = q1 - 1.5 * (np.pow(np.e, (-4 * k))) * iqr\n",
    "        upper_bound = q3 + 1.5 * (np.pow(np.e, (3 * k))) * iqr\n",
    "    else:\n",
    "        lower_bound = q1 - 1.5 * (np.pow(np.e, (-3 * k))) * iqr\n",
    "        upper_bound = q3 + 1.5 * (np.pow(np.e, (4 * k))) * iqr\n",
    "    \n",
    "    return lower_bound, upper_bound\n",
    "\n",
    "# Считываем нижнюю и верхнюю границу\n",
    "lower_bound, upper_bound = adjusted_interval_price(temp_data)\n",
    "\n",
    "# Визуализируем результат\n",
    "fig, _ = plt.subplots(1, 1, figsize=(6, 4))\n",
    "histplot = sns.histplot(data=temp_data, x = 'Price')\n",
    "histplot.xaxis.set_tick_params(rotation=45)\n",
    "histplot.set_title('Price')\n",
    "\n",
    "_.axvline(temp_data['Price'].median(), color='k', lw=2)\n",
    "_.axvline(lower_bound, \n",
    "          color='k', ls='--', lw=2)\n",
    "_.axvline(upper_bound, \n",
    "          color='k', ls='--', lw=2)\n",
    "\n",
    "print(f\"lower_bound = {lower_bound}\")\n",
    "print(f\"upper_bound = {upper_bound}\")"
   ]
  },
  {
   "cell_type": "code",
   "execution_count": 141,
   "metadata": {},
   "outputs": [
    {
     "data": {
      "text/plain": [
       "(5917, 8)"
      ]
     },
     "execution_count": 141,
     "metadata": {},
     "output_type": "execute_result"
    }
   ],
   "source": [
    "# Before\n",
    "temp_data.shape"
   ]
  },
  {
   "cell_type": "code",
   "execution_count": 142,
   "metadata": {},
   "outputs": [],
   "source": [
    "# Удаляем выбросы\n",
    "temp_data = temp_data[(temp_data['Price'] > lower_bound) & (temp_data['Price'] < upper_bound)].copy()"
   ]
  },
  {
   "cell_type": "code",
   "execution_count": 143,
   "metadata": {},
   "outputs": [
    {
     "data": {
      "text/plain": [
       "(5846, 8)"
      ]
     },
     "execution_count": 143,
     "metadata": {},
     "output_type": "execute_result"
    }
   ],
   "source": [
    "# After\n",
    "temp_data.shape"
   ]
  },
  {
   "cell_type": "markdown",
   "metadata": {},
   "source": [
    "#### Обработать числовые метрики"
   ]
  },
  {
   "cell_type": "markdown",
   "metadata": {},
   "source": [
    "У нас есть только одна числовая метрика кроме целевой это **'Carat Weight'**. Поэтому думаю что статистические методы как нормализация или стартизация не требуеться.\n",
    "\n",
    "У этой переменной три модальное распределение. Это было бы проблемой если у нас бы были другие числовые метрики."
   ]
  },
  {
   "cell_type": "code",
   "execution_count": 151,
   "metadata": {},
   "outputs": [
    {
     "data": {
      "text/plain": [
       "count    5846.000000\n",
       "mean        1.340274\n",
       "std         0.473938\n",
       "min         0.750000\n",
       "25%         1.010000\n",
       "50%         1.140000\n",
       "75%         1.600000\n",
       "max         2.910000\n",
       "Name: Carat Weight, dtype: float64"
      ]
     },
     "execution_count": 151,
     "metadata": {},
     "output_type": "execute_result"
    }
   ],
   "source": [
    "# Описательная статистика 'Carat Weight'\n",
    "temp_data['Carat Weight'].describe()"
   ]
  },
  {
   "cell_type": "code",
   "execution_count": 152,
   "metadata": {},
   "outputs": [
    {
     "data": {
      "text/plain": [
       "<matplotlib.lines.Line2D at 0x1f4e77c7560>"
      ]
     },
     "execution_count": 152,
     "metadata": {},
     "output_type": "execute_result"
    },
    {
     "data": {
      "image/png": "[encoded data removed]",
      "text/plain": [
       "<Figure size 600x400 with 1 Axes>"
      ]
     },
     "metadata": {},
     "output_type": "display_data"
    }
   ],
   "source": [
    "# Визуализирую 3 сигм по Carat Weight.\n",
    "fig, _ = plt.subplots(1, 1, figsize=(6, 4))\n",
    "histplot = sns.histplot(data=temp_data, x = 'Carat Weight')\n",
    "histplot.xaxis.set_tick_params(rotation=45)\n",
    "histplot.set_title('Price')\n",
    "\n",
    "per_25 = np.percentile(temp_data['Carat Weight'], 25)\n",
    "per_75 = np.percentile(temp_data['Carat Weight'], 75)\n",
    "iqr = per_75 - per_25\n",
    "\n",
    "_.axvline(temp_data['Carat Weight'].median(), color='k', lw=2)\n",
    "_.axvline(temp_data['Carat Weight'].median() + 3*iqr, \n",
    "          color='k', ls='--', lw=2)\n",
    "_.axvline(temp_data['Carat Weight'].median() - 3*iqr, \n",
    "          color='k', ls='--', lw=2)"
   ]
  },
  {
   "cell_type": "markdown",
   "metadata": {},
   "source": [
    "Я пока оставляю эту метрику как есть. Ничего не меняю."
   ]
  },
  {
   "cell_type": "markdown",
   "metadata": {},
   "source": [
    "#### Обработать категориальные метрики"
   ]
  },
  {
   "cell_type": "markdown",
   "metadata": {},
   "source": [
    "Произведем One Hot-кодирование категориальных признаков с помощью функции pandas - get_dummies()."
   ]
  },
  {
   "cell_type": "code",
   "execution_count": 153,
   "metadata": {},
   "outputs": [
    {
     "data": {
      "text/html": [
       "<div>\n",
       "<style scoped>\n",
       "    .dataframe tbody tr th:only-of-type {\n",
       "        vertical-align: middle;\n",
       "    }\n",
       "\n",
       "    .dataframe tbody tr th {\n",
       "        vertical-align: top;\n",
       "    }\n",
       "\n",
       "    .dataframe thead th {\n",
       "        text-align: right;\n",
       "    }\n",
       "</style>\n",
       "<table border=\"1\" class=\"dataframe\">\n",
       "  <thead>\n",
       "    <tr style=\"text-align: right;\">\n",
       "      <th></th>\n",
       "      <th>Carat Weight</th>\n",
       "      <th>Price</th>\n",
       "      <th>Cut_Fair</th>\n",
       "      <th>Cut_Good</th>\n",
       "      <th>Cut_Ideal</th>\n",
       "      <th>Cut_Signature-Ideal</th>\n",
       "      <th>Cut_Very Good</th>\n",
       "      <th>Color_D</th>\n",
       "      <th>Color_E</th>\n",
       "      <th>Color_F</th>\n",
       "      <th>...</th>\n",
       "      <th>Polish_EX</th>\n",
       "      <th>Polish_G</th>\n",
       "      <th>Polish_ID</th>\n",
       "      <th>Polish_VG</th>\n",
       "      <th>Symmetry_EX</th>\n",
       "      <th>Symmetry_G</th>\n",
       "      <th>Symmetry_ID</th>\n",
       "      <th>Symmetry_VG</th>\n",
       "      <th>Report_AGSL</th>\n",
       "      <th>Report_GIA</th>\n",
       "    </tr>\n",
       "    <tr>\n",
       "      <th>ID</th>\n",
       "      <th></th>\n",
       "      <th></th>\n",
       "      <th></th>\n",
       "      <th></th>\n",
       "      <th></th>\n",
       "      <th></th>\n",
       "      <th></th>\n",
       "      <th></th>\n",
       "      <th></th>\n",
       "      <th></th>\n",
       "      <th></th>\n",
       "      <th></th>\n",
       "      <th></th>\n",
       "      <th></th>\n",
       "      <th></th>\n",
       "      <th></th>\n",
       "      <th></th>\n",
       "      <th></th>\n",
       "      <th></th>\n",
       "      <th></th>\n",
       "      <th></th>\n",
       "    </tr>\n",
       "  </thead>\n",
       "  <tbody>\n",
       "    <tr>\n",
       "      <th>1</th>\n",
       "      <td>1.10</td>\n",
       "      <td>5169</td>\n",
       "      <td>False</td>\n",
       "      <td>False</td>\n",
       "      <td>True</td>\n",
       "      <td>False</td>\n",
       "      <td>False</td>\n",
       "      <td>False</td>\n",
       "      <td>False</td>\n",
       "      <td>False</td>\n",
       "      <td>...</td>\n",
       "      <td>False</td>\n",
       "      <td>False</td>\n",
       "      <td>False</td>\n",
       "      <td>True</td>\n",
       "      <td>True</td>\n",
       "      <td>False</td>\n",
       "      <td>False</td>\n",
       "      <td>False</td>\n",
       "      <td>False</td>\n",
       "      <td>True</td>\n",
       "    </tr>\n",
       "    <tr>\n",
       "      <th>2</th>\n",
       "      <td>0.83</td>\n",
       "      <td>3470</td>\n",
       "      <td>False</td>\n",
       "      <td>False</td>\n",
       "      <td>True</td>\n",
       "      <td>False</td>\n",
       "      <td>False</td>\n",
       "      <td>False</td>\n",
       "      <td>False</td>\n",
       "      <td>False</td>\n",
       "      <td>...</td>\n",
       "      <td>False</td>\n",
       "      <td>False</td>\n",
       "      <td>True</td>\n",
       "      <td>False</td>\n",
       "      <td>False</td>\n",
       "      <td>False</td>\n",
       "      <td>True</td>\n",
       "      <td>False</td>\n",
       "      <td>True</td>\n",
       "      <td>False</td>\n",
       "    </tr>\n",
       "    <tr>\n",
       "      <th>3</th>\n",
       "      <td>0.85</td>\n",
       "      <td>3183</td>\n",
       "      <td>False</td>\n",
       "      <td>False</td>\n",
       "      <td>True</td>\n",
       "      <td>False</td>\n",
       "      <td>False</td>\n",
       "      <td>False</td>\n",
       "      <td>False</td>\n",
       "      <td>False</td>\n",
       "      <td>...</td>\n",
       "      <td>True</td>\n",
       "      <td>False</td>\n",
       "      <td>False</td>\n",
       "      <td>False</td>\n",
       "      <td>True</td>\n",
       "      <td>False</td>\n",
       "      <td>False</td>\n",
       "      <td>False</td>\n",
       "      <td>False</td>\n",
       "      <td>True</td>\n",
       "    </tr>\n",
       "    <tr>\n",
       "      <th>4</th>\n",
       "      <td>0.91</td>\n",
       "      <td>4370</td>\n",
       "      <td>False</td>\n",
       "      <td>False</td>\n",
       "      <td>True</td>\n",
       "      <td>False</td>\n",
       "      <td>False</td>\n",
       "      <td>False</td>\n",
       "      <td>True</td>\n",
       "      <td>False</td>\n",
       "      <td>...</td>\n",
       "      <td>False</td>\n",
       "      <td>False</td>\n",
       "      <td>False</td>\n",
       "      <td>True</td>\n",
       "      <td>False</td>\n",
       "      <td>False</td>\n",
       "      <td>False</td>\n",
       "      <td>True</td>\n",
       "      <td>False</td>\n",
       "      <td>True</td>\n",
       "    </tr>\n",
       "    <tr>\n",
       "      <th>5</th>\n",
       "      <td>0.83</td>\n",
       "      <td>3171</td>\n",
       "      <td>False</td>\n",
       "      <td>False</td>\n",
       "      <td>True</td>\n",
       "      <td>False</td>\n",
       "      <td>False</td>\n",
       "      <td>False</td>\n",
       "      <td>False</td>\n",
       "      <td>False</td>\n",
       "      <td>...</td>\n",
       "      <td>True</td>\n",
       "      <td>False</td>\n",
       "      <td>False</td>\n",
       "      <td>False</td>\n",
       "      <td>True</td>\n",
       "      <td>False</td>\n",
       "      <td>False</td>\n",
       "      <td>False</td>\n",
       "      <td>False</td>\n",
       "      <td>True</td>\n",
       "    </tr>\n",
       "  </tbody>\n",
       "</table>\n",
       "<p>5 rows × 30 columns</p>\n",
       "</div>"
      ],
      "text/plain": [
       "    Carat Weight  Price  Cut_Fair  Cut_Good  Cut_Ideal  Cut_Signature-Ideal  \\\n",
       "ID                                                                            \n",
       "1           1.10   5169     False     False       True                False   \n",
       "2           0.83   3470     False     False       True                False   \n",
       "3           0.85   3183     False     False       True                False   \n",
       "4           0.91   4370     False     False       True                False   \n",
       "5           0.83   3171     False     False       True                False   \n",
       "\n",
       "    Cut_Very Good  Color_D  Color_E  Color_F  ...  Polish_EX  Polish_G  \\\n",
       "ID                                            ...                        \n",
       "1           False    False    False    False  ...      False     False   \n",
       "2           False    False    False    False  ...      False     False   \n",
       "3           False    False    False    False  ...       True     False   \n",
       "4           False    False     True    False  ...      False     False   \n",
       "5           False    False    False    False  ...       True     False   \n",
       "\n",
       "    Polish_ID  Polish_VG  Symmetry_EX  Symmetry_G  Symmetry_ID  Symmetry_VG  \\\n",
       "ID                                                                            \n",
       "1       False       True         True       False        False        False   \n",
       "2        True      False        False       False         True        False   \n",
       "3       False      False         True       False        False        False   \n",
       "4       False       True        False       False        False         True   \n",
       "5       False      False         True       False        False        False   \n",
       "\n",
       "    Report_AGSL  Report_GIA  \n",
       "ID                           \n",
       "1         False        True  \n",
       "2          True       False  \n",
       "3         False        True  \n",
       "4         False        True  \n",
       "5         False        True  \n",
       "\n",
       "[5 rows x 30 columns]"
      ]
     },
     "execution_count": 153,
     "metadata": {},
     "output_type": "execute_result"
    }
   ],
   "source": [
    "#Производим кодирование категориальных признаков\n",
    "dummies_data = pd.get_dummies(temp_data)\n",
    "dummies_data.head()"
   ]
  },
  {
   "cell_type": "markdown",
   "metadata": {},
   "source": [
    "Аналог: знакомый нам OneHotEncoder из библиотеки category_encoders"
   ]
  },
  {
   "cell_type": "code",
   "execution_count": 161,
   "metadata": {},
   "outputs": [],
   "source": [
    "# import category_encoders as ce # импорт для работы с кодировщиком\n",
    "\n",
    "# encoder = ce.OneHotEncoder(cols=['Cut', 'Color', 'Clarity', 'Polish', \n",
    "#                                  'Symmetry', 'Report']) # указываем столбец для кодирования\n",
    "# encoding_data = encoder.fit_transform(temp_data[['Cut', 'Color', 'Clarity', 'Polish', \n",
    "#                                  'Symmetry', 'Report']])\n",
    "# dummies_data = pd.concat([temp_data.drop(['Cut', 'Color', 'Clarity', 'Polish', \n",
    "#                                  'Symmetry', 'Report'], axis=1), encoding_data], axis=1)\n",
    "# dummies_data.head()"
   ]
  },
  {
   "cell_type": "markdown",
   "metadata": {},
   "source": [
    "#### Разделение на train и test"
   ]
  },
  {
   "cell_type": "markdown",
   "metadata": {},
   "source": [
    "Разделим набор данных на матрицу наблюдений X (таблица из объектов и их признаков) и столбец правильных ответов y"
   ]
  },
  {
   "cell_type": "code",
   "execution_count": 163,
   "metadata": {},
   "outputs": [],
   "source": [
    "#X - матрица наблюдений, y - столбец правильных ответов\n",
    "X = dummies_data.drop('Price', axis=1)\n",
    "y = dummies_data['Price']"
   ]
  },
  {
   "cell_type": "markdown",
   "metadata": {},
   "source": [
    "Разделяем всю выборку на тренировочную и тестовую в соотношении 80/20.\n",
    "\n",
    "На тренировочной выборке будем обучать модели, а на тестовой проверять их качество."
   ]
  },
  {
   "cell_type": "code",
   "execution_count": 164,
   "metadata": {},
   "outputs": [
    {
     "name": "stdout",
     "output_type": "stream",
     "text": [
      "Train shape: (4676, 29)\n",
      "Test shape: (1170, 29)\n"
     ]
    }
   ],
   "source": [
    "#Создаем тренировочную и тестовую выборки с помощью train_test_split\n",
    "X_train, X_test, y_train, y_test = train_test_split(\n",
    "    X, y, #таблица с наблюдениями и столбец с правильным ответами\n",
    "    test_size=0.2, #размер тестовой выборки\n",
    "    random_state=42 #число отвечающее за генерацию случайных чисел\n",
    ")\n",
    "#Выводим размеры полученных выборок\n",
    "print('Train shape: {}'.format(X_train.shape))\n",
    "print('Test shape: {}'.format(X_test.shape))"
   ]
  },
  {
   "cell_type": "markdown",
   "metadata": {},
   "source": [
    "### Моделирование + Оценка модели"
   ]
  },
  {
   "cell_type": "code",
   "execution_count": 177,
   "metadata": {},
   "outputs": [],
   "source": [
    "def print_metrics(y_train, y_train_predict, y_test, y_test_predict):\n",
    "    print('Train R^2: {:.3f}'.format(metrics.r2_score(y_train, y_train_predict)))\n",
    "    print('Train MSE: {:.3f}'.format(metrics.mean_squared_error(y_train, y_train_predict)))\n",
    "    print('Train MAE: {:.3f}'.format(metrics.mean_absolute_error(y_train, y_train_predict)))\n",
    "    print('Train MAPE: {:.3f}'.format(metrics.mean_absolute_percentage_error(y_train, y_train_predict)*100))\n",
    "    print('\\n')\n",
    "    print('Test R^2: {:.3f}'.format(metrics.r2_score(y_test, y_test_predict)))\n",
    "    print('Test MSE: {:.3f}'.format(metrics.mean_squared_error(y_test, y_test_predict)))\n",
    "    print('Test MAE: {:.3f}'.format(metrics.mean_absolute_error(y_test, y_test_predict)))\n",
    "    print('Train MAPE: {:.3f}'.format(metrics.mean_absolute_percentage_error(y_test, y_test_predict)*100))"
   ]
  },
  {
   "cell_type": "code",
   "execution_count": null,
   "metadata": {},
   "outputs": [],
   "source": []
  }
 ],
 "metadata": {
  "kernelspec": {
   "display_name": "Python 3",
   "language": "python",
   "name": "python3"
  },
  "language_info": {
   "codemirror_mode": {
    "name": "ipython",
    "version": 3
   },
   "file_extension": ".py",
   "mimetype": "text/x-python",
   "name": "python",
   "nbconvert_exporter": "python",
   "pygments_lexer": "ipython3",
   "version": "3.12.2"
  }
 },
 "nbformat": 4,
 "nbformat_minor": 2
}
