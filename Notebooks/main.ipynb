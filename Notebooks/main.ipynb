{
 "cells": [
  {
   "cell_type": "markdown",
   "metadata": {},
   "source": [
    "# Аналитика с применением ML. Обучение с учителем. Регрессия.\n",
    "## Составить лучшие варианты бриллианта\n",
    "<div style=\"text-align: center;\">\n",
    "    <img src=\"https://static.tildacdn.com/tild3336-3437-4638-b566-666236633564/unnamed_2.jpg\" alt=\"Брилиант\" width=\"400\" height=\"400\">\n",
    "</div>"
   ]
  },
  {
   "cell_type": "code",
   "execution_count": 4,
   "metadata": {},
   "outputs": [],
   "source": [
    "# Импортируем библиотеки\n",
    "import pandas as pd # для работы с данными\n",
    "import numpy as np # для вычислений\n",
    "import matplotlib.pyplot as plt # для визулизаций\n",
    "import seaborn as sns # для визулизаций\n",
    "\n",
    "from sklearn import linear_model # Линейные модели\n",
    "from sklearn import preprocessing # предобработка\n",
    "from sklearn import metrics # метрики\n",
    "from sklearn.model_selection import train_test_split # выборка\n",
    "%matplotlib inline"
   ]
  },
  {
   "cell_type": "markdown",
   "metadata": {},
   "source": [
    "Повторим, как организуется процесс разработки DS-проектов согласно методологии CRISP-DM."
   ]
  },
  {
   "cell_type": "markdown",
   "metadata": {},
   "source": [
    "Этапы модели CRISP-DM:\n",
    "1. Анализ требований\n",
    "2. Исследование данных\n",
    "3. Подготовка данных\n",
    "4. Моделирование\n",
    "5. Оценка модели\n",
    "6. Внедрение"
   ]
  },
  {
   "cell_type": "markdown",
   "metadata": {},
   "source": [
    "### Анализ требований"
   ]
  },
  {
   "cell_type": "markdown",
   "metadata": {},
   "source": [
    "Задание: Анализировать кейс и создать модель Регрессий для предсказывание цены бриланта."
   ]
  },
  {
   "cell_type": "markdown",
   "metadata": {},
   "source": [
    "**Знакомство с данными**"
   ]
  },
  {
   "cell_type": "code",
   "execution_count": 21,
   "metadata": {},
   "outputs": [
    {
     "data": {
      "text/html": [
       "<div>\n",
       "<style scoped>\n",
       "    .dataframe tbody tr th:only-of-type {\n",
       "        vertical-align: middle;\n",
       "    }\n",
       "\n",
       "    .dataframe tbody tr th {\n",
       "        vertical-align: top;\n",
       "    }\n",
       "\n",
       "    .dataframe thead th {\n",
       "        text-align: right;\n",
       "    }\n",
       "</style>\n",
       "<table border=\"1\" class=\"dataframe\">\n",
       "  <thead>\n",
       "    <tr style=\"text-align: right;\">\n",
       "      <th></th>\n",
       "      <th>Carat Weight</th>\n",
       "      <th>Cut</th>\n",
       "      <th>Color</th>\n",
       "      <th>Clarity</th>\n",
       "      <th>Polish</th>\n",
       "      <th>Symmetry</th>\n",
       "      <th>Report</th>\n",
       "      <th>Price</th>\n",
       "    </tr>\n",
       "    <tr>\n",
       "      <th>ID</th>\n",
       "      <th></th>\n",
       "      <th></th>\n",
       "      <th></th>\n",
       "      <th></th>\n",
       "      <th></th>\n",
       "      <th></th>\n",
       "      <th></th>\n",
       "      <th></th>\n",
       "    </tr>\n",
       "  </thead>\n",
       "  <tbody>\n",
       "    <tr>\n",
       "      <th>1</th>\n",
       "      <td>1.10</td>\n",
       "      <td>Ideal</td>\n",
       "      <td>H</td>\n",
       "      <td>SI1</td>\n",
       "      <td>VG</td>\n",
       "      <td>EX</td>\n",
       "      <td>GIA</td>\n",
       "      <td>5169</td>\n",
       "    </tr>\n",
       "    <tr>\n",
       "      <th>2</th>\n",
       "      <td>0.83</td>\n",
       "      <td>Ideal</td>\n",
       "      <td>H</td>\n",
       "      <td>VS1</td>\n",
       "      <td>ID</td>\n",
       "      <td>ID</td>\n",
       "      <td>AGSL</td>\n",
       "      <td>3470</td>\n",
       "    </tr>\n",
       "    <tr>\n",
       "      <th>3</th>\n",
       "      <td>0.85</td>\n",
       "      <td>Ideal</td>\n",
       "      <td>H</td>\n",
       "      <td>SI1</td>\n",
       "      <td>EX</td>\n",
       "      <td>EX</td>\n",
       "      <td>GIA</td>\n",
       "      <td>3183</td>\n",
       "    </tr>\n",
       "    <tr>\n",
       "      <th>4</th>\n",
       "      <td>0.91</td>\n",
       "      <td>Ideal</td>\n",
       "      <td>E</td>\n",
       "      <td>SI1</td>\n",
       "      <td>VG</td>\n",
       "      <td>VG</td>\n",
       "      <td>GIA</td>\n",
       "      <td>4370</td>\n",
       "    </tr>\n",
       "    <tr>\n",
       "      <th>5</th>\n",
       "      <td>0.83</td>\n",
       "      <td>Ideal</td>\n",
       "      <td>G</td>\n",
       "      <td>SI1</td>\n",
       "      <td>EX</td>\n",
       "      <td>EX</td>\n",
       "      <td>GIA</td>\n",
       "      <td>3171</td>\n",
       "    </tr>\n",
       "  </tbody>\n",
       "</table>\n",
       "</div>"
      ],
      "text/plain": [
       "    Carat Weight    Cut Color Clarity Polish Symmetry Report  Price\n",
       "ID                                                                 \n",
       "1           1.10  Ideal     H     SI1     VG       EX    GIA   5169\n",
       "2           0.83  Ideal     H     VS1     ID       ID   AGSL   3470\n",
       "3           0.85  Ideal     H     SI1     EX       EX    GIA   3183\n",
       "4           0.91  Ideal     E     SI1     VG       VG    GIA   4370\n",
       "5           0.83  Ideal     G     SI1     EX       EX    GIA   3171"
      ]
     },
     "execution_count": 21,
     "metadata": {},
     "output_type": "execute_result"
    }
   ],
   "source": [
    "# Считываем данные из таблицы\n",
    "df = pd.read_excel(r\"C:\\Users\\moona\\Desktop\\Брилианты для Сары - project 5\\data\\data.xlsx\")\n",
    "df.set_index('ID', inplace=True) # устанавливаем колонку \"ID\" как индекс\n",
    "df.head()"
   ]
  },
  {
   "cell_type": "markdown",
   "metadata": {},
   "source": [
    "Каждый брилиант описывает следующие признаки:\n",
    "1. Carat Weight - Вес в каратах\n",
    "2. Cut - Огранка\n",
    "3. Color - Цвет\n",
    "4. Clarity - Чистота\n",
    "5. Polish - Полировка\n",
    "6. Symmetry - Симетрия\n",
    "7. Report - Стандарты оценки\n",
    "8. Price - Цена (**Целевая переменная**)\n",
    "\n",
    "* Оценка брилиантов зависет от четерех основных критериев, известные как \"Четыре С\" - Carat Weight, Cut, Color, Clarity. Помимо этих факторов на стоимость камня могут также влиять другие, менее известные показатели, это - Polish, Symmetry, Report. (Подробно можете узнать в файле \"task.pdf\" в папке \"description\")."
   ]
  },
  {
   "cell_type": "code",
   "execution_count": 22,
   "metadata": {},
   "outputs": [
    {
     "data": {
      "text/plain": [
       "(6000, 8)"
      ]
     },
     "execution_count": 22,
     "metadata": {},
     "output_type": "execute_result"
    }
   ],
   "source": [
    "df.shape"
   ]
  },
  {
   "cell_type": "code",
   "execution_count": 23,
   "metadata": {},
   "outputs": [
    {
     "name": "stdout",
     "output_type": "stream",
     "text": [
      "<class 'pandas.core.frame.DataFrame'>\n",
      "Index: 6000 entries, 1 to 6000\n",
      "Data columns (total 8 columns):\n",
      " #   Column        Non-Null Count  Dtype  \n",
      "---  ------        --------------  -----  \n",
      " 0   Carat Weight  6000 non-null   float64\n",
      " 1   Cut           6000 non-null   object \n",
      " 2   Color         6000 non-null   object \n",
      " 3   Clarity       6000 non-null   object \n",
      " 4   Polish        6000 non-null   object \n",
      " 5   Symmetry      6000 non-null   object \n",
      " 6   Report        6000 non-null   object \n",
      " 7   Price         6000 non-null   int64  \n",
      "dtypes: float64(1), int64(1), object(6)\n",
      "memory usage: 421.9+ KB\n"
     ]
    }
   ],
   "source": [
    "df.info()"
   ]
  },
  {
   "cell_type": "code",
   "execution_count": null,
   "metadata": {},
   "outputs": [],
   "source": []
  }
 ],
 "metadata": {
  "kernelspec": {
   "display_name": "Python 3",
   "language": "python",
   "name": "python3"
  },
  "language_info": {
   "codemirror_mode": {
    "name": "ipython",
    "version": 3
   },
   "file_extension": ".py",
   "mimetype": "text/x-python",
   "name": "python",
   "nbconvert_exporter": "python",
   "pygments_lexer": "ipython3",
   "version": "3.12.2"
  }
 },
 "nbformat": 4,
 "nbformat_minor": 2
}
